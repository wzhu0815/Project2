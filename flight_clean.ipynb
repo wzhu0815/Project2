{
 "cells": [
  {
   "cell_type": "code",
   "execution_count": 1,
   "metadata": {},
   "outputs": [],
   "source": [
    "import pandas as pd"
   ]
  },
  {
   "cell_type": "code",
   "execution_count": 2,
   "metadata": {},
   "outputs": [],
   "source": [
    "flight_df = pd.read_csv('Resources/2018_select.csv')"
   ]
  },
  {
   "cell_type": "code",
   "execution_count": 3,
   "metadata": {},
   "outputs": [
    {
     "data": {
      "text/plain": [
       "Index(['FL_DATE', 'OP_CARRIER', 'OP_CARRIER_FL_NUM', 'ORIGIN', 'DEST',\n",
       "       'CRS_DEP_TIME', 'DEP_TIME', 'DEP_DELAY', 'TAXI_OUT', 'WHEELS_OFF',\n",
       "       'WHEELS_ON', 'TAXI_IN', 'CRS_ARR_TIME', 'ARR_TIME', 'ARR_DELAY',\n",
       "       'CANCELLED', 'CANCELLATION_CODE', 'DIVERTED', 'CRS_ELAPSED_TIME',\n",
       "       'ACTUAL_ELAPSED_TIME', 'AIR_TIME', 'DISTANCE', 'CARRIER_DELAY',\n",
       "       'WEATHER_DELAY', 'NAS_DELAY', 'SECURITY_DELAY', 'LATE_AIRCRAFT_DELAY',\n",
       "       'Unnamed: 27'],\n",
       "      dtype='object')"
      ]
     },
     "execution_count": 3,
     "metadata": {},
     "output_type": "execute_result"
    }
   ],
   "source": [
    "flight_df.columns"
   ]
  },
  {
   "cell_type": "code",
   "execution_count": 4,
   "metadata": {},
   "outputs": [
    {
     "data": {
      "text/plain": [
       "0        1512.0\n",
       "1        1107.0\n",
       "2        1330.0\n",
       "3        1552.0\n",
       "4         650.0\n",
       "          ...  \n",
       "17909     621.0\n",
       "17910    1754.0\n",
       "17911    1012.0\n",
       "17912     903.0\n",
       "17913    1150.0\n",
       "Name: DEP_TIME, Length: 17914, dtype: float64"
      ]
     },
     "execution_count": 4,
     "metadata": {},
     "output_type": "execute_result"
    }
   ],
   "source": [
    "flight_df['DEP_TIME']"
   ]
  },
  {
   "cell_type": "code",
   "execution_count": 5,
   "metadata": {},
   "outputs": [
    {
     "data": {
      "text/plain": [
       "0        1512\n",
       "1        1107\n",
       "2        1330\n",
       "3        1552\n",
       "4         650\n",
       "         ... \n",
       "17909     621\n",
       "17910    1754\n",
       "17911    1012\n",
       "17912     903\n",
       "17913    1150\n",
       "Name: DEP_TIME, Length: 17914, dtype: object"
      ]
     },
     "execution_count": 5,
     "metadata": {},
     "output_type": "execute_result"
    }
   ],
   "source": [
    "flight_df['DEP_TIME'] = flight_df['DEP_TIME'].loc[~flight_df['DEP_TIME'].isna()].astype(int).astype(str)\n",
    "flight_df['DEP_TIME']"
   ]
  },
  {
   "cell_type": "code",
   "execution_count": 6,
   "metadata": {},
   "outputs": [
    {
     "name": "stderr",
     "output_type": "stream",
     "text": [
      "C:\\Users\\IRENE\\anaconda3\\envs\\PythonData\\lib\\site-packages\\pandas\\core\\indexing.py:671: SettingWithCopyWarning: \n",
      "A value is trying to be set on a copy of a slice from a DataFrame\n",
      "\n",
      "See the caveats in the documentation: https://pandas.pydata.org/pandas-docs/stable/user_guide/indexing.html#returning-a-view-versus-a-copy\n",
      "  self._setitem_with_indexer(indexer, value)\n"
     ]
    }
   ],
   "source": [
    "flight_df['DEP_TIME'].loc[flight_df['DEP_TIME'].str.len()==3] = '0'+flight_df['DEP_TIME'].loc[flight_df['DEP_TIME'].str.len()==3]\n"
   ]
  },
  {
   "cell_type": "code",
   "execution_count": 7,
   "metadata": {},
   "outputs": [],
   "source": [
    "flight_df['DEP_TIME'] = flight_df['DEP_TIME'].str[0:2]+':'+flight_df['DEP_TIME'].str[2:4]"
   ]
  },
  {
   "cell_type": "code",
   "execution_count": 8,
   "metadata": {},
   "outputs": [
    {
     "data": {
      "text/plain": [
       "0        15:12\n",
       "1        11:07\n",
       "2        13:30\n",
       "3        15:52\n",
       "4        06:50\n",
       "         ...  \n",
       "17909    06:21\n",
       "17910    17:54\n",
       "17911    10:12\n",
       "17912    09:03\n",
       "17913    11:50\n",
       "Name: DEP_TIME, Length: 17914, dtype: object"
      ]
     },
     "execution_count": 8,
     "metadata": {},
     "output_type": "execute_result"
    }
   ],
   "source": [
    "flight_df['DEP_TIME']"
   ]
  },
  {
   "cell_type": "code",
   "execution_count": 9,
   "metadata": {},
   "outputs": [],
   "source": [
    "flight_df=flight_df[['FL_DATE','OP_CARRIER','OP_CARRIER_FL_NUM','ORIGIN', 'DEST','AIR_TIME','DISTANCE','DEP_TIME', 'DEP_DELAY','CANCELLED']]"
   ]
  },
  {
   "cell_type": "code",
   "execution_count": 10,
   "metadata": {},
   "outputs": [
    {
     "data": {
      "text/html": [
       "<div>\n",
       "<style scoped>\n",
       "    .dataframe tbody tr th:only-of-type {\n",
       "        vertical-align: middle;\n",
       "    }\n",
       "\n",
       "    .dataframe tbody tr th {\n",
       "        vertical-align: top;\n",
       "    }\n",
       "\n",
       "    .dataframe thead th {\n",
       "        text-align: right;\n",
       "    }\n",
       "</style>\n",
       "<table border=\"1\" class=\"dataframe\">\n",
       "  <thead>\n",
       "    <tr style=\"text-align: right;\">\n",
       "      <th></th>\n",
       "      <th>FL_DATE</th>\n",
       "      <th>OP_CARRIER</th>\n",
       "      <th>OP_CARRIER_FL_NUM</th>\n",
       "      <th>ORIGIN</th>\n",
       "      <th>DEST</th>\n",
       "      <th>AIR_TIME</th>\n",
       "      <th>DISTANCE</th>\n",
       "      <th>DEP_TIME</th>\n",
       "      <th>DEP_DELAY</th>\n",
       "      <th>CANCELLED</th>\n",
       "    </tr>\n",
       "  </thead>\n",
       "  <tbody>\n",
       "    <tr>\n",
       "      <th>0</th>\n",
       "      <td>2018-01-01</td>\n",
       "      <td>UA</td>\n",
       "      <td>2429</td>\n",
       "      <td>EWR</td>\n",
       "      <td>DEN</td>\n",
       "      <td>225.0</td>\n",
       "      <td>1605.0</td>\n",
       "      <td>15:12</td>\n",
       "      <td>-5.0</td>\n",
       "      <td>0.0</td>\n",
       "    </tr>\n",
       "    <tr>\n",
       "      <th>1</th>\n",
       "      <td>2018-01-01</td>\n",
       "      <td>UA</td>\n",
       "      <td>2427</td>\n",
       "      <td>LAS</td>\n",
       "      <td>SFO</td>\n",
       "      <td>65.0</td>\n",
       "      <td>414.0</td>\n",
       "      <td>11:07</td>\n",
       "      <td>-8.0</td>\n",
       "      <td>0.0</td>\n",
       "    </tr>\n",
       "    <tr>\n",
       "      <th>2</th>\n",
       "      <td>2018-01-01</td>\n",
       "      <td>UA</td>\n",
       "      <td>2426</td>\n",
       "      <td>SNA</td>\n",
       "      <td>DEN</td>\n",
       "      <td>106.0</td>\n",
       "      <td>846.0</td>\n",
       "      <td>13:30</td>\n",
       "      <td>-5.0</td>\n",
       "      <td>0.0</td>\n",
       "    </tr>\n",
       "    <tr>\n",
       "      <th>3</th>\n",
       "      <td>2018-01-01</td>\n",
       "      <td>UA</td>\n",
       "      <td>2425</td>\n",
       "      <td>RSW</td>\n",
       "      <td>ORD</td>\n",
       "      <td>157.0</td>\n",
       "      <td>1120.0</td>\n",
       "      <td>15:52</td>\n",
       "      <td>6.0</td>\n",
       "      <td>0.0</td>\n",
       "    </tr>\n",
       "    <tr>\n",
       "      <th>4</th>\n",
       "      <td>2018-01-01</td>\n",
       "      <td>UA</td>\n",
       "      <td>2424</td>\n",
       "      <td>ORD</td>\n",
       "      <td>ALB</td>\n",
       "      <td>83.0</td>\n",
       "      <td>723.0</td>\n",
       "      <td>06:50</td>\n",
       "      <td>20.0</td>\n",
       "      <td>0.0</td>\n",
       "    </tr>\n",
       "    <tr>\n",
       "      <th>...</th>\n",
       "      <td>...</td>\n",
       "      <td>...</td>\n",
       "      <td>...</td>\n",
       "      <td>...</td>\n",
       "      <td>...</td>\n",
       "      <td>...</td>\n",
       "      <td>...</td>\n",
       "      <td>...</td>\n",
       "      <td>...</td>\n",
       "      <td>...</td>\n",
       "    </tr>\n",
       "    <tr>\n",
       "      <th>17909</th>\n",
       "      <td>2018-01-01</td>\n",
       "      <td>DL</td>\n",
       "      <td>2988</td>\n",
       "      <td>SJC</td>\n",
       "      <td>MSP</td>\n",
       "      <td>199.0</td>\n",
       "      <td>1575.0</td>\n",
       "      <td>06:21</td>\n",
       "      <td>1.0</td>\n",
       "      <td>0.0</td>\n",
       "    </tr>\n",
       "    <tr>\n",
       "      <th>17910</th>\n",
       "      <td>2018-01-01</td>\n",
       "      <td>DL</td>\n",
       "      <td>2989</td>\n",
       "      <td>SEA</td>\n",
       "      <td>ORD</td>\n",
       "      <td>203.0</td>\n",
       "      <td>1721.0</td>\n",
       "      <td>17:54</td>\n",
       "      <td>-8.0</td>\n",
       "      <td>0.0</td>\n",
       "    </tr>\n",
       "    <tr>\n",
       "      <th>17911</th>\n",
       "      <td>2018-01-01</td>\n",
       "      <td>DL</td>\n",
       "      <td>2990</td>\n",
       "      <td>ATL</td>\n",
       "      <td>DCA</td>\n",
       "      <td>70.0</td>\n",
       "      <td>547.0</td>\n",
       "      <td>10:12</td>\n",
       "      <td>7.0</td>\n",
       "      <td>0.0</td>\n",
       "    </tr>\n",
       "    <tr>\n",
       "      <th>17912</th>\n",
       "      <td>2018-01-01</td>\n",
       "      <td>DL</td>\n",
       "      <td>2999</td>\n",
       "      <td>ATL</td>\n",
       "      <td>SYR</td>\n",
       "      <td>101.0</td>\n",
       "      <td>794.0</td>\n",
       "      <td>09:03</td>\n",
       "      <td>-5.0</td>\n",
       "      <td>0.0</td>\n",
       "    </tr>\n",
       "    <tr>\n",
       "      <th>17913</th>\n",
       "      <td>2018-01-01</td>\n",
       "      <td>DL</td>\n",
       "      <td>2999</td>\n",
       "      <td>SYR</td>\n",
       "      <td>ATL</td>\n",
       "      <td>124.0</td>\n",
       "      <td>794.0</td>\n",
       "      <td>11:50</td>\n",
       "      <td>0.0</td>\n",
       "      <td>0.0</td>\n",
       "    </tr>\n",
       "  </tbody>\n",
       "</table>\n",
       "<p>17914 rows × 10 columns</p>\n",
       "</div>"
      ],
      "text/plain": [
       "          FL_DATE OP_CARRIER  OP_CARRIER_FL_NUM ORIGIN DEST  AIR_TIME  \\\n",
       "0      2018-01-01         UA               2429    EWR  DEN     225.0   \n",
       "1      2018-01-01         UA               2427    LAS  SFO      65.0   \n",
       "2      2018-01-01         UA               2426    SNA  DEN     106.0   \n",
       "3      2018-01-01         UA               2425    RSW  ORD     157.0   \n",
       "4      2018-01-01         UA               2424    ORD  ALB      83.0   \n",
       "...           ...        ...                ...    ...  ...       ...   \n",
       "17909  2018-01-01         DL               2988    SJC  MSP     199.0   \n",
       "17910  2018-01-01         DL               2989    SEA  ORD     203.0   \n",
       "17911  2018-01-01         DL               2990    ATL  DCA      70.0   \n",
       "17912  2018-01-01         DL               2999    ATL  SYR     101.0   \n",
       "17913  2018-01-01         DL               2999    SYR  ATL     124.0   \n",
       "\n",
       "       DISTANCE DEP_TIME  DEP_DELAY  CANCELLED  \n",
       "0        1605.0    15:12       -5.0        0.0  \n",
       "1         414.0    11:07       -8.0        0.0  \n",
       "2         846.0    13:30       -5.0        0.0  \n",
       "3        1120.0    15:52        6.0        0.0  \n",
       "4         723.0    06:50       20.0        0.0  \n",
       "...         ...      ...        ...        ...  \n",
       "17909    1575.0    06:21        1.0        0.0  \n",
       "17910    1721.0    17:54       -8.0        0.0  \n",
       "17911     547.0    10:12        7.0        0.0  \n",
       "17912     794.0    09:03       -5.0        0.0  \n",
       "17913     794.0    11:50        0.0        0.0  \n",
       "\n",
       "[17914 rows x 10 columns]"
      ]
     },
     "execution_count": 10,
     "metadata": {},
     "output_type": "execute_result"
    }
   ],
   "source": [
    "flight_df"
   ]
  },
  {
   "cell_type": "code",
   "execution_count": 11,
   "metadata": {},
   "outputs": [],
   "source": [
    "flight_df.columns=['Date','Airline','Flight_Num','Origin','Destination','Air_Time','Distance','Dep_Time','Delay (min)', 'Cancelled (Y/N)']"
   ]
  },
  {
   "cell_type": "code",
   "execution_count": 12,
   "metadata": {},
   "outputs": [
    {
     "data": {
      "text/html": [
       "<div>\n",
       "<style scoped>\n",
       "    .dataframe tbody tr th:only-of-type {\n",
       "        vertical-align: middle;\n",
       "    }\n",
       "\n",
       "    .dataframe tbody tr th {\n",
       "        vertical-align: top;\n",
       "    }\n",
       "\n",
       "    .dataframe thead th {\n",
       "        text-align: right;\n",
       "    }\n",
       "</style>\n",
       "<table border=\"1\" class=\"dataframe\">\n",
       "  <thead>\n",
       "    <tr style=\"text-align: right;\">\n",
       "      <th></th>\n",
       "      <th>Date</th>\n",
       "      <th>Airline</th>\n",
       "      <th>Flight_Num</th>\n",
       "      <th>Origin</th>\n",
       "      <th>Destination</th>\n",
       "      <th>Air_Time</th>\n",
       "      <th>Distance</th>\n",
       "      <th>Dep_Time</th>\n",
       "      <th>Delay (min)</th>\n",
       "      <th>Cancelled (Y/N)</th>\n",
       "    </tr>\n",
       "  </thead>\n",
       "  <tbody>\n",
       "    <tr>\n",
       "      <th>0</th>\n",
       "      <td>2018-01-01</td>\n",
       "      <td>UA</td>\n",
       "      <td>2429</td>\n",
       "      <td>EWR</td>\n",
       "      <td>DEN</td>\n",
       "      <td>225.0</td>\n",
       "      <td>1605.0</td>\n",
       "      <td>15:12</td>\n",
       "      <td>-5.0</td>\n",
       "      <td>0.0</td>\n",
       "    </tr>\n",
       "    <tr>\n",
       "      <th>1</th>\n",
       "      <td>2018-01-01</td>\n",
       "      <td>UA</td>\n",
       "      <td>2427</td>\n",
       "      <td>LAS</td>\n",
       "      <td>SFO</td>\n",
       "      <td>65.0</td>\n",
       "      <td>414.0</td>\n",
       "      <td>11:07</td>\n",
       "      <td>-8.0</td>\n",
       "      <td>0.0</td>\n",
       "    </tr>\n",
       "    <tr>\n",
       "      <th>2</th>\n",
       "      <td>2018-01-01</td>\n",
       "      <td>UA</td>\n",
       "      <td>2426</td>\n",
       "      <td>SNA</td>\n",
       "      <td>DEN</td>\n",
       "      <td>106.0</td>\n",
       "      <td>846.0</td>\n",
       "      <td>13:30</td>\n",
       "      <td>-5.0</td>\n",
       "      <td>0.0</td>\n",
       "    </tr>\n",
       "    <tr>\n",
       "      <th>3</th>\n",
       "      <td>2018-01-01</td>\n",
       "      <td>UA</td>\n",
       "      <td>2425</td>\n",
       "      <td>RSW</td>\n",
       "      <td>ORD</td>\n",
       "      <td>157.0</td>\n",
       "      <td>1120.0</td>\n",
       "      <td>15:52</td>\n",
       "      <td>6.0</td>\n",
       "      <td>0.0</td>\n",
       "    </tr>\n",
       "    <tr>\n",
       "      <th>4</th>\n",
       "      <td>2018-01-01</td>\n",
       "      <td>UA</td>\n",
       "      <td>2424</td>\n",
       "      <td>ORD</td>\n",
       "      <td>ALB</td>\n",
       "      <td>83.0</td>\n",
       "      <td>723.0</td>\n",
       "      <td>06:50</td>\n",
       "      <td>20.0</td>\n",
       "      <td>0.0</td>\n",
       "    </tr>\n",
       "    <tr>\n",
       "      <th>...</th>\n",
       "      <td>...</td>\n",
       "      <td>...</td>\n",
       "      <td>...</td>\n",
       "      <td>...</td>\n",
       "      <td>...</td>\n",
       "      <td>...</td>\n",
       "      <td>...</td>\n",
       "      <td>...</td>\n",
       "      <td>...</td>\n",
       "      <td>...</td>\n",
       "    </tr>\n",
       "    <tr>\n",
       "      <th>17909</th>\n",
       "      <td>2018-01-01</td>\n",
       "      <td>DL</td>\n",
       "      <td>2988</td>\n",
       "      <td>SJC</td>\n",
       "      <td>MSP</td>\n",
       "      <td>199.0</td>\n",
       "      <td>1575.0</td>\n",
       "      <td>06:21</td>\n",
       "      <td>1.0</td>\n",
       "      <td>0.0</td>\n",
       "    </tr>\n",
       "    <tr>\n",
       "      <th>17910</th>\n",
       "      <td>2018-01-01</td>\n",
       "      <td>DL</td>\n",
       "      <td>2989</td>\n",
       "      <td>SEA</td>\n",
       "      <td>ORD</td>\n",
       "      <td>203.0</td>\n",
       "      <td>1721.0</td>\n",
       "      <td>17:54</td>\n",
       "      <td>-8.0</td>\n",
       "      <td>0.0</td>\n",
       "    </tr>\n",
       "    <tr>\n",
       "      <th>17911</th>\n",
       "      <td>2018-01-01</td>\n",
       "      <td>DL</td>\n",
       "      <td>2990</td>\n",
       "      <td>ATL</td>\n",
       "      <td>DCA</td>\n",
       "      <td>70.0</td>\n",
       "      <td>547.0</td>\n",
       "      <td>10:12</td>\n",
       "      <td>7.0</td>\n",
       "      <td>0.0</td>\n",
       "    </tr>\n",
       "    <tr>\n",
       "      <th>17912</th>\n",
       "      <td>2018-01-01</td>\n",
       "      <td>DL</td>\n",
       "      <td>2999</td>\n",
       "      <td>ATL</td>\n",
       "      <td>SYR</td>\n",
       "      <td>101.0</td>\n",
       "      <td>794.0</td>\n",
       "      <td>09:03</td>\n",
       "      <td>-5.0</td>\n",
       "      <td>0.0</td>\n",
       "    </tr>\n",
       "    <tr>\n",
       "      <th>17913</th>\n",
       "      <td>2018-01-01</td>\n",
       "      <td>DL</td>\n",
       "      <td>2999</td>\n",
       "      <td>SYR</td>\n",
       "      <td>ATL</td>\n",
       "      <td>124.0</td>\n",
       "      <td>794.0</td>\n",
       "      <td>11:50</td>\n",
       "      <td>0.0</td>\n",
       "      <td>0.0</td>\n",
       "    </tr>\n",
       "  </tbody>\n",
       "</table>\n",
       "<p>17914 rows × 10 columns</p>\n",
       "</div>"
      ],
      "text/plain": [
       "             Date Airline  Flight_Num Origin Destination  Air_Time  Distance  \\\n",
       "0      2018-01-01      UA        2429    EWR         DEN     225.0    1605.0   \n",
       "1      2018-01-01      UA        2427    LAS         SFO      65.0     414.0   \n",
       "2      2018-01-01      UA        2426    SNA         DEN     106.0     846.0   \n",
       "3      2018-01-01      UA        2425    RSW         ORD     157.0    1120.0   \n",
       "4      2018-01-01      UA        2424    ORD         ALB      83.0     723.0   \n",
       "...           ...     ...         ...    ...         ...       ...       ...   \n",
       "17909  2018-01-01      DL        2988    SJC         MSP     199.0    1575.0   \n",
       "17910  2018-01-01      DL        2989    SEA         ORD     203.0    1721.0   \n",
       "17911  2018-01-01      DL        2990    ATL         DCA      70.0     547.0   \n",
       "17912  2018-01-01      DL        2999    ATL         SYR     101.0     794.0   \n",
       "17913  2018-01-01      DL        2999    SYR         ATL     124.0     794.0   \n",
       "\n",
       "      Dep_Time  Delay (min)  Cancelled (Y/N)  \n",
       "0        15:12         -5.0              0.0  \n",
       "1        11:07         -8.0              0.0  \n",
       "2        13:30         -5.0              0.0  \n",
       "3        15:52          6.0              0.0  \n",
       "4        06:50         20.0              0.0  \n",
       "...        ...          ...              ...  \n",
       "17909    06:21          1.0              0.0  \n",
       "17910    17:54         -8.0              0.0  \n",
       "17911    10:12          7.0              0.0  \n",
       "17912    09:03         -5.0              0.0  \n",
       "17913    11:50          0.0              0.0  \n",
       "\n",
       "[17914 rows x 10 columns]"
      ]
     },
     "execution_count": 12,
     "metadata": {},
     "output_type": "execute_result"
    }
   ],
   "source": [
    "flight_df"
   ]
  },
  {
   "cell_type": "code",
   "execution_count": null,
   "metadata": {},
   "outputs": [],
   "source": [
    "#i.o. insert next 2 blocks"
   ]
  },
  {
   "cell_type": "code",
   "execution_count": 18,
   "metadata": {},
   "outputs": [
    {
     "data": {
      "text/html": [
       "<div>\n",
       "<style scoped>\n",
       "    .dataframe tbody tr th:only-of-type {\n",
       "        vertical-align: middle;\n",
       "    }\n",
       "\n",
       "    .dataframe tbody tr th {\n",
       "        vertical-align: top;\n",
       "    }\n",
       "\n",
       "    .dataframe thead th {\n",
       "        text-align: right;\n",
       "    }\n",
       "</style>\n",
       "<table border=\"1\" class=\"dataframe\">\n",
       "  <thead>\n",
       "    <tr style=\"text-align: right;\">\n",
       "      <th></th>\n",
       "      <th></th>\n",
       "      <th>Delay (min)</th>\n",
       "    </tr>\n",
       "    <tr>\n",
       "      <th>Airline</th>\n",
       "      <th>Origin</th>\n",
       "      <th></th>\n",
       "    </tr>\n",
       "  </thead>\n",
       "  <tbody>\n",
       "    <tr>\n",
       "      <th rowspan=\"5\" valign=\"top\">9E</th>\n",
       "      <th>ABY</th>\n",
       "      <td>-2.500000</td>\n",
       "    </tr>\n",
       "    <tr>\n",
       "      <th>AEX</th>\n",
       "      <td>16.500000</td>\n",
       "    </tr>\n",
       "    <tr>\n",
       "      <th>AGS</th>\n",
       "      <td>32.000000</td>\n",
       "    </tr>\n",
       "    <tr>\n",
       "      <th>ATL</th>\n",
       "      <td>17.393443</td>\n",
       "    </tr>\n",
       "    <tr>\n",
       "      <th>ATW</th>\n",
       "      <td>-6.000000</td>\n",
       "    </tr>\n",
       "  </tbody>\n",
       "</table>\n",
       "</div>"
      ],
      "text/plain": [
       "                Delay (min)\n",
       "Airline Origin             \n",
       "9E      ABY       -2.500000\n",
       "        AEX       16.500000\n",
       "        AGS       32.000000\n",
       "        ATL       17.393443\n",
       "        ATW       -6.000000"
      ]
     },
     "execution_count": 18,
     "metadata": {},
     "output_type": "execute_result"
    }
   ],
   "source": [
    "Average_delay_df=flight_df.groupby(['Airline','Origin'],axis=0, as_index=True).agg({'Delay (min)':\"mean\"})\n",
    "Average_delay_df.head()\n"
   ]
  },
  {
   "cell_type": "code",
   "execution_count": 24,
   "metadata": {},
   "outputs": [],
   "source": [
    "Average_delay_df.to_csv(r'Resources\\Avg_airline_delay.csv')"
   ]
  },
  {
   "cell_type": "code",
   "execution_count": null,
   "metadata": {},
   "outputs": [],
   "source": [
    "df.to_csv(r'Path where you want to store the exported CSV file\\File Name.csv')"
   ]
  },
  {
   "cell_type": "code",
   "execution_count": null,
   "metadata": {},
   "outputs": [],
   "source": [
    "#also in json in case "
   ]
  },
  {
   "cell_type": "code",
   "execution_count": null,
   "metadata": {},
   "outputs": [],
   "source": [
    "flight_df['Cancelled (Y/N)']=flight_df['Cancelled (Y/N)'].replace(0, 'N')"
   ]
  },
  {
   "cell_type": "code",
   "execution_count": null,
   "metadata": {},
   "outputs": [],
   "source": [
    "flight_df['Cancelled (Y/N)']=flight_df['Cancelled (Y/N)'].replace(1, 'Y')"
   ]
  },
  {
   "cell_type": "code",
   "execution_count": null,
   "metadata": {},
   "outputs": [],
   "source": [
    "flight_df.to_csv('Clean/flights_cleaned',index=False)"
   ]
  },
  {
   "cell_type": "code",
   "execution_count": null,
   "metadata": {},
   "outputs": [],
   "source": [
    "pd.read_csv('Clean/flights_cleaned')"
   ]
  },
  {
   "cell_type": "code",
   "execution_count": null,
   "metadata": {},
   "outputs": [],
   "source": []
  }
 ],
 "metadata": {
  "kernelspec": {
   "display_name": "Python 3",
   "language": "python",
   "name": "python3"
  },
  "language_info": {
   "codemirror_mode": {
    "name": "ipython",
    "version": 3
   },
   "file_extension": ".py",
   "mimetype": "text/x-python",
   "name": "python",
   "nbconvert_exporter": "python",
   "pygments_lexer": "ipython3",
   "version": "3.6.10"
  }
 },
 "nbformat": 4,
 "nbformat_minor": 4
}
